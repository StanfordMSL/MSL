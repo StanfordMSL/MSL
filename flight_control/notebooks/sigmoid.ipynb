{
 "cells": [
  {
   "cell_type": "code",
   "execution_count": 1,
   "metadata": {},
   "outputs": [],
   "source": [
    "# Some useful settings for interactive work\n",
    "%load_ext autoreload\n",
    "%autoreload 2\n",
    "\n",
    "%matplotlib widget"
   ]
  },
  {
   "cell_type": "code",
   "execution_count": 2,
   "metadata": {},
   "outputs": [],
   "source": [
    "import os\n",
    "import json\n",
    "from controller.vehicle_rate_mpc import VehicleRateMPC"
   ]
  },
  {
   "cell_type": "code",
   "execution_count": 3,
   "metadata": {},
   "outputs": [],
   "source": [
    "with open('../configs/fout_waypoints/track_sigmoid.json', 'r') as f:\n",
    "    fout_wps = json.load(f)\n",
    "\n",
    "with open('../configs/mpc_parameters/flightroom.json', 'r') as f:\n",
    "    mpc_prms = json.load(f)\n",
    "\n",
    "with open('../configs/drone_parameters/carl.json', 'r') as f:\n",
    "    drn_prms = json.load(f)\n",
    "\n",
    "with open('../configs/control_parameters/body_rate_v1.json', 'r') as f:\n",
    "    ctl_prms = json.load(f)"
   ]
  },
  {
   "cell_type": "code",
   "execution_count": 5,
   "metadata": {},
   "outputs": [
    {
     "name": "stdout",
     "output_type": "stream",
     "text": [
      "[[0.0222119 0.        0.       ]\n",
      " [0.        0.0222119 0.       ]\n",
      " [0.        0.        0.0421175]]\n",
      "Warning: Did not find environment variable ACADOS_SOURCE_DIR, guessed ACADOS_PATH to be /home/admin/StanfordMSL/MSL/flight_control/acados.\n",
      "Please export ACADOS_SOURCE_DIR to avoid this warning.\n"
     ]
    },
    {
     "name": "stderr",
     "output_type": "stream",
     "text": [
      "/home/admin/StanfordMSL/MSL/flight_control/src/utilities/dynamics_helper.py:84: RuntimeWarning: divide by zero encountered in divide\n",
      "  quad[\"fMw\"] = fMw\n"
     ]
    },
    {
     "ename": "Exception",
     "evalue": "lbu must be a numpy array, got <class 'list'>",
     "output_type": "error",
     "traceback": [
      "\u001b[0;31m---------------------------------------------------------------------------\u001b[0m",
      "\u001b[0;31mException\u001b[0m                                 Traceback (most recent call last)",
      "Cell \u001b[0;32mIn[5], line 1\u001b[0m\n\u001b[0;32m----> 1\u001b[0m policy \u001b[38;5;241m=\u001b[39m \u001b[43mVehicleRateMPC\u001b[49m\u001b[43m(\u001b[49m\u001b[43mfout_wps\u001b[49m\u001b[43m,\u001b[49m\u001b[43mmpc_prms\u001b[49m\u001b[43m,\u001b[49m\u001b[43mdrn_prms\u001b[49m\u001b[43m,\u001b[49m\u001b[43mctl_prms\u001b[49m\u001b[43m)\u001b[49m\n",
      "File \u001b[0;32m~/StanfordMSL/MSL/flight_control/src/controller/vehicle_rate_mpc.py:90\u001b[0m, in \u001b[0;36mVehicleRateMPC.__init__\u001b[0;34m(self, fout_wps, mpc_prms, drn_prms, ctl_prms, name)\u001b[0m\n\u001b[1;32m     87\u001b[0m ocp\u001b[38;5;241m.\u001b[39mcost\u001b[38;5;241m.\u001b[39myref_e \u001b[38;5;241m=\u001b[39m np\u001b[38;5;241m.\u001b[39mzeros((ny_e, ))\n\u001b[1;32m     89\u001b[0m ocp\u001b[38;5;241m.\u001b[39mconstraints\u001b[38;5;241m.\u001b[39mx0 \u001b[38;5;241m=\u001b[39m tXUd[\u001b[38;5;241m1\u001b[39m:\u001b[38;5;241m11\u001b[39m,\u001b[38;5;241m0\u001b[39m]\n\u001b[0;32m---> 90\u001b[0m ocp\u001b[38;5;241m.\u001b[39mconstraints\u001b[38;5;241m.\u001b[39mlbu \u001b[38;5;241m=\u001b[39m lbu\n\u001b[1;32m     91\u001b[0m ocp\u001b[38;5;241m.\u001b[39mconstraints\u001b[38;5;241m.\u001b[39mubu \u001b[38;5;241m=\u001b[39m ubu\n\u001b[1;32m     92\u001b[0m ocp\u001b[38;5;241m.\u001b[39mconstraints\u001b[38;5;241m.\u001b[39midxbu \u001b[38;5;241m=\u001b[39m np\u001b[38;5;241m.\u001b[39marray([\u001b[38;5;241m0\u001b[39m, \u001b[38;5;241m1\u001b[39m, \u001b[38;5;241m2\u001b[39m, \u001b[38;5;241m3\u001b[39m])\n",
      "File \u001b[0;32m~/StanfordMSL/MSL/flight_control/acados/interfaces/acados_template/acados_template/acados_ocp_constraints.py:861\u001b[0m, in \u001b[0;36mAcadosOcpConstraints.lbu\u001b[0;34m(self, lbu)\u001b[0m\n\u001b[1;32m    859\u001b[0m \u001b[38;5;129m@lbu\u001b[39m\u001b[38;5;241m.\u001b[39msetter\n\u001b[1;32m    860\u001b[0m \u001b[38;5;28;01mdef\u001b[39;00m \u001b[38;5;21mlbu\u001b[39m(\u001b[38;5;28mself\u001b[39m, lbu):\n\u001b[0;32m--> 861\u001b[0m     lbu \u001b[38;5;241m=\u001b[39m \u001b[43mcheck_if_nparray_and_flatten\u001b[49m\u001b[43m(\u001b[49m\u001b[43mlbu\u001b[49m\u001b[43m,\u001b[49m\u001b[43m \u001b[49m\u001b[38;5;124;43m\"\u001b[39;49m\u001b[38;5;124;43mlbu\u001b[39;49m\u001b[38;5;124;43m\"\u001b[39;49m\u001b[43m)\u001b[49m\n\u001b[1;32m    862\u001b[0m     \u001b[38;5;28mself\u001b[39m\u001b[38;5;241m.\u001b[39m__lbu \u001b[38;5;241m=\u001b[39m lbu\n",
      "File \u001b[0;32m~/StanfordMSL/MSL/flight_control/acados/interfaces/acados_template/acados_template/utils.py:397\u001b[0m, in \u001b[0;36mcheck_if_nparray_and_flatten\u001b[0;34m(val, name)\u001b[0m\n\u001b[1;32m    395\u001b[0m \u001b[38;5;28;01mdef\u001b[39;00m \u001b[38;5;21mcheck_if_nparray_and_flatten\u001b[39m(val, name) \u001b[38;5;241m-\u001b[39m\u001b[38;5;241m>\u001b[39m np\u001b[38;5;241m.\u001b[39mndarray:\n\u001b[1;32m    396\u001b[0m     \u001b[38;5;28;01mif\u001b[39;00m \u001b[38;5;129;01mnot\u001b[39;00m \u001b[38;5;28misinstance\u001b[39m(val, np\u001b[38;5;241m.\u001b[39mndarray):\n\u001b[0;32m--> 397\u001b[0m         \u001b[38;5;28;01mraise\u001b[39;00m \u001b[38;5;167;01mException\u001b[39;00m(\u001b[38;5;124mf\u001b[39m\u001b[38;5;124m\"\u001b[39m\u001b[38;5;132;01m{\u001b[39;00mname\u001b[38;5;132;01m}\u001b[39;00m\u001b[38;5;124m must be a numpy array, got \u001b[39m\u001b[38;5;132;01m{\u001b[39;00m\u001b[38;5;28mtype\u001b[39m(val)\u001b[38;5;132;01m}\u001b[39;00m\u001b[38;5;124m\"\u001b[39m)\n\u001b[1;32m    398\u001b[0m     \u001b[38;5;28;01mreturn\u001b[39;00m val\u001b[38;5;241m.\u001b[39mreshape(\u001b[38;5;241m-\u001b[39m\u001b[38;5;241m1\u001b[39m)\n",
      "\u001b[0;31mException\u001b[0m: lbu must be a numpy array, got <class 'list'>"
     ]
    }
   ],
   "source": [
    "policy = VehicleRateMPC(fout_wps,mpc_prms,drn_prms,ctl_prms)"
   ]
  }
 ],
 "metadata": {
  "kernelspec": {
   "display_name": "msl-env",
   "language": "python",
   "name": "python3"
  },
  "language_info": {
   "codemirror_mode": {
    "name": "ipython",
    "version": 3
   },
   "file_extension": ".py",
   "mimetype": "text/x-python",
   "name": "python",
   "nbconvert_exporter": "python",
   "pygments_lexer": "ipython3",
   "version": "3.10.15"
  }
 },
 "nbformat": 4,
 "nbformat_minor": 2
}
