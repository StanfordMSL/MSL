{
 "cells": [
  {
   "cell_type": "code",
   "execution_count": 2,
   "metadata": {},
   "outputs": [],
   "source": [
    "# Some useful settings for interactive work\n",
    "%load_ext autoreload\n",
    "%autoreload 2\n",
    "\n",
    "%matplotlib widget"
   ]
  },
  {
   "cell_type": "code",
   "execution_count": 3,
   "metadata": {},
   "outputs": [],
   "source": [
    "# Importing the necessary libraries\n",
    "import utilities.parameters_helper as ph\n",
    "from controller.vehicle_rate_mpc import VehicleRateMPC"
   ]
  },
  {
   "cell_type": "code",
   "execution_count": 10,
   "metadata": {},
   "outputs": [
    {
     "name": "stdout",
     "output_type": "stream",
     "text": [
      "Currently Loaded Configs:\n",
      " - fout_waypoints    : track_sigmoid\n",
      " - mpc_parameters    : flightroom\n",
      " - drone_parameters  : carl\n",
      " - control_parameters: body_rate_v1\n"
     ]
    }
   ],
   "source": [
    "# Load and List Configs\n",
    "cfg = ph.Configs('track_sigmoid')\n",
    "cfg.list_configs()\n",
    "\n",
    "# Breakdown Relevant Configs\n",
    "fout_wps = cfg.get_params('fout_waypoints')\n",
    "mpc_prms = cfg.get_params('mpc_parameters')\n",
    "drn_prms = cfg.get_params('drone_parameters')\n",
    "ctl_prms = cfg.get_params('control_parameters')"
   ]
  },
  {
   "cell_type": "code",
   "execution_count": 8,
   "metadata": {},
   "outputs": [
    {
     "name": "stdout",
     "output_type": "stream",
     "text": [
      "field AcadosOcpDims.N has been migrated to AcadosOcpOptions.N_horizon. setting AcadosOcpOptions.N_horizon = N. For future comppatibility, please use AcadosOcpOptions.N_horizon directly.\n"
     ]
    }
   ],
   "source": [
    "policy = VehicleRateMPC(fout_wps,mpc_prms,drn_prms,ctl_prms)"
   ]
  },
  {
   "cell_type": "code",
   "execution_count": 9,
   "metadata": {},
   "outputs": [],
   "source": [
    "policy.clear_generated_code()"
   ]
  }
 ],
 "metadata": {
  "kernelspec": {
   "display_name": "msl-env",
   "language": "python",
   "name": "python3"
  },
  "language_info": {
   "codemirror_mode": {
    "name": "ipython",
    "version": 3
   },
   "file_extension": ".py",
   "mimetype": "text/x-python",
   "name": "python",
   "nbconvert_exporter": "python",
   "pygments_lexer": "ipython3",
   "version": "3.10.15"
  }
 },
 "nbformat": 4,
 "nbformat_minor": 2
}
